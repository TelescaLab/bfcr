{
 "cells": [
  {
   "cell_type": "markdown",
   "metadata": {},
   "source": [
    "## Introduction\n",
    "\n",
    "The `bfcr` package provides functions to perform nonparametric Bayesian inference for covariate-adjusted covariance operators with functional response data as described in \"Bayesian functional covariance regression\" by Shamshoian et al. (2021). This package contains a C++ implementation of the Markov-Chain Monte-Carlo sampling algorithm in the Supporting Information document and several convenience functions for extracting posterior summaries. The online GitHub repository contains all code used in the analysis of the resting state EEG data from children with autism spectrum disorder as well as the sleep waveforms collected on patients' polysomnography from SHHS visit 1. However, both of these data sets are not publicly available so we illustrate our methods with a simulated example.\n",
    "\n",
    "## Installation \n",
    "\n",
    "Simply install with GitHub by using the R package `devtools`."
   ]
  },
  {
   "cell_type": "code",
   "execution_count": 2,
   "metadata": {},
   "outputs": [
    {
     "name": "stderr",
     "output_type": "stream",
     "text": [
      "Downloading GitHub repo jshamsho/bfcr@HEAD\n",
      "\n"
     ]
    },
    {
     "name": "stdout",
     "output_type": "stream",
     "text": [
      "\n",
      "\u001b[32m✔\u001b[39m  \u001b[38;5;247mchecking for file ‘/private/var/folders/tj/tbxt8wrd4cvbp379m1fqvpwh0000gn/T/RtmpABtnMy/remotes54845297ea19/jshamsho-bfcr-e5e1eae/DESCRIPTION’\u001b[39m\u001b[36m\u001b[39m\n",
      "\u001b[38;5;247m─\u001b[39m\u001b[38;5;247m  \u001b[39m\u001b[38;5;247mpreparing ‘bfcr’:\u001b[39m\u001b[36m\u001b[36m (1.5s)\u001b[36m\u001b[39m\n",
      "\u001b[32m✔\u001b[39m  \u001b[38;5;247mchecking DESCRIPTION meta-information\u001b[39m\u001b[36m\u001b[39m\n",
      "\u001b[38;5;247m─\u001b[39m\u001b[38;5;247m  \u001b[39m\u001b[38;5;247mcleaning src\u001b[39m\u001b[36m\u001b[39m\n",
      "\u001b[38;5;247m─\u001b[39m\u001b[38;5;247m  \u001b[39m\u001b[38;5;247minstalling the package to process help pages\u001b[39m\u001b[36m\u001b[39m\n",
      "\u001b[38;5;247m─\u001b[39m\u001b[38;5;247m  \u001b[39m\u001b[38;5;247msaving partial Rd database\u001b[39m\u001b[36m\u001b[36m (55.4s)\u001b[36m\u001b[39m\n",
      "\u001b[38;5;247m─\u001b[39m\u001b[38;5;247m  \u001b[39m\u001b[38;5;247mcleaning src\u001b[39m\u001b[36m\u001b[39m\n",
      "\u001b[38;5;247m─\u001b[39m\u001b[38;5;247m  \u001b[39m\u001b[38;5;247mchecking for LF line-endings in source and make files and shell scripts\u001b[39m\u001b[36m\u001b[39m\n",
      "\u001b[38;5;247m─\u001b[39m\u001b[38;5;247m  \u001b[39m\u001b[38;5;247mchecking for empty or unneeded directories\u001b[39m\u001b[36m\u001b[39m\n",
      "   Removed empty directory ‘bfcr/SHHS/tabulated_data’\n",
      "\u001b[38;5;247m─\u001b[39m\u001b[38;5;247m  \u001b[39m\u001b[38;5;247mbuilding ‘bfcr_1.0.tar.gz’\u001b[39m\u001b[36m\u001b[39m\n",
      "   \n",
      "\r"
     ]
    }
   ],
   "source": [
    "if (!requireNamespace(\"devtools\", quietly = TRUE)) {\n",
    "    install.packages(\"devtools\")\n",
    "  }\n",
    "devtools::install_github(\"jshamsho/bfcr\")\n",
    "library(bfcr)"
   ]
  },
  {
   "cell_type": "markdown",
   "metadata": {},
   "source": [
    "## Background info\n",
    "\n",
    "With the exception of some recent contributions, most functional regression frameworks operate under the assumption of that covariate information does not affect patterns of covariation. The methods in this repository address this disparity providing full nonparametric Bayesian inference on key scientific objects of interest. We assume $N$ response curves are observed with the $i$th response curve having covariate-adjusted mean $\\mu(t, x_{i})$, random deviation $r_{i}(t, x_{i})$, and random measurement source error $\\epsilon_{i}(t)$. Critically, this framework allows the random component $r_{i}(t, x_{i})$ to systematically vary across scalar covariates $x_{i}$, which induces covariate-adjusted patterns of covariation. The data generating model is \n",
    "\n",
    "\\begin{gather*}\n",
    "y_{i}(t) \\sim \\mu(t, x_{i}) + r_{i}(t, x_{i}) + \\epsilon_{i}(t),\\,\\, \\epsilon_{i}(t)\\sim N(0, \\varphi^{2})\\\\\n",
    "r_{i}(t, x_{i}) = \\sum_{j=1}^{k}\\psi_{j}(t, x_{i})\\eta_{ij}, \\,\\,\\eta_{ij}\\sim N(0, 1)\\\\\n",
    "\\mu(t, x_{i}) = \\sum_{r=1}^{R}f_{r}(t, x_{i}),\\,\\,\\psi_{j}(t) = \\sum_{r=1}^{R}l_{rj}(t, x_{i})\n",
    "\\end{gather*}\n",
    "\n",
    "Here $f_{r}(t, x_{i})$ and $l_{rj}(t, x_{i})$ are general smooth functions which are in practice estimated via basis expansion. Note that the conditional mean function $\\mathbb{E}[y_{i}(t)] = \\mu(t, x_{i})$ and the conditional within-subject covariance function is $\\text{Cov}[y_{i}(t), y_{i}(t')] = \\sum_{j=1}^{k}\\psi_{j}(t,x_{i})\\psi_{j}(t', x_{i}) + \\varphi^{2}\\delta_{tt'}$. Estimation on all unknown components is carried out in a Bayesian manner providing full posterior inference. Please see our manuscript for more details on specifying the form of smooth functions, priors, and computation.\n",
    "\n",
    "## Example\n",
    "\n",
    "This example will simulate a data set with $N = 100$ response curves and one covariate so that $x_{i}$ is a scalar."
   ]
  },
  {
   "cell_type": "code",
   "execution_count": null,
   "metadata": {},
   "outputs": [],
   "source": [
    "suppressMessages(library(bfcr))\n",
    "suppressMessages(library(mgcv))\n",
    "suppressMessages(library(tidyverse))\n",
    "\n",
    "# Change this to your local directory\n",
    "file_name <- paste0(\"/Users/johnshamshoian/Documents/R_projects/bfcr/\",\n",
    "                    \"Simulations/Simulation_parameters.RData\")\n",
    "load(file_name)\n",
    "\n",
    "n <- 100\n",
    "k <- simparam$k\n",
    "times <- simparam$times # Time grid\n",
    "beta <- simparam$beta\n",
    "lambda <- simparam$lambda\n",
    "time_basis <- simparam$time_basis\n",
    "x <- seq(from = 0, to = 1, length.out = n) # Covariate grid\n",
    "df_x <- simparam$df_x\n",
    "x_basis <- smoothCon(s(x, k = df_x, m = 2, bs = \"ps\"), data.frame(x),\n",
    "                     absorb.cons = TRUE)\n",
    "df_times <- simparam$df_times\n",
    "x_basis_fit <- smoothCon(s(x, k = df_x + 2, m = 2, bs = \"ps\"),\n",
    "                         absorb.cons = TRUE, data.frame(x))\n",
    "time_basis_fit <- smoothCon(s(times, k = df_times, m = 2, bs = \"ps\"),\n",
    "                            data.frame(times))\n",
    "design_mean <- cbind(1, x_basis_fit[[1]]$X)\n",
    "indices_mean <- c(1, 2, 2)\n",
    "time_penalty <- time_basis_fit[[1]]$S.scale * time_basis[[1]]$S[[1]]\n",
    "x_penalty <- x_basis_fit[[1]]$S.scale * x_basis_fit[[1]]$S[[1]]\n",
    "S_list <- list(x_penalty, time_penalty)\n",
    "S <- tensor.prod.penalties(S_list)\n",
    "penalties_mean <- list(time_penalty, S[[1]], S[[2]])\n",
    "k_fit <- k + 2\n",
    "evaluate_basis <- function(x_basis, x) {\n",
    "  c(1, PredictMat(x_basis, data.frame(x)))\n",
    "}\n",
    "design_mean_truth <- cbind(1, x_basis[[1]]$X)\n",
    "\n",
    "lambda_truth <- lambda\n",
    "design_var_truth <- cbind(1, x_basis[[1]]$X)\n",
    "design_var <- cbind(1, x_basis_fit[[1]]$X)\n",
    "evaluate_basis_var <- function(x_basis, x) {\n",
    "  c(1, PredictMat(x_basis, data.frame(x)))\n",
    "}\n",
    "evaluate_basis_var_truth <- function(x_basis, x) {\n",
    "  c(1, PredictMat(x_basis, data.frame(x)))\n",
    "}\n",
    "penalties_var <- list(time_penalty, S[[1]], S[[2]])\n",
    "indices_var <- c(1, 2, 2)\n",
    "\n",
    "# Generate random data\n",
    "eta <- rnorm(n * k) %>% array(dim = c(n, k))\n",
    "Y <- time_basis[[1]]$X %*% beta %*% t(design_mean_truth) %>% t()\n",
    "for (kp in 1:k) {\n",
    "  Y <- Y + time_basis[[1]]$X %*% lambda_truth[,,kp] %*% \n",
    "    t(design_var_truth) %*% diag(eta[,kp]) %>% t()\n",
    "}\n",
    "Y_errors <- Y + rnorm(n * length(times), sd = .20) %>% matrix(n, length(times))\n",
    "\n",
    "# Visualize data\n",
    "data_tibble <- tibble(y = c(t(Y_errors)), time = rep(times, n), ID = rep(1:n, each = length(times)))\n",
    "data_tibble %>%\n",
    "  ggplot(aes(time, y, group = ID)) +\n",
    "  geom_line() +\n",
    "  labs(x = \"Time\", y = \"Response\") +\n",
    "  theme_bw()\n",
    "\n",
    "# Run MCMC algorithm\n",
    "mcmc_results <- run_mcmc(Y_errors, design_mean,\n",
    "                         design_var, time_basis_fit[[1]]$X,\n",
    "                         times, penalties_mean, penalties_var,\n",
    "                         indices_mean, indices_var, k_fit, 1000, 500, 1)\n"
   ]
  },
  {
   "cell_type": "code",
   "execution_count": 31,
   "metadata": {},
   "outputs": [
    {
     "ename": "ERROR",
     "evalue": "Error in bfcr::run_mcmc(): object '_bfcr_run_mcmc' not found\n",
     "output_type": "error",
     "traceback": [
      "Error in bfcr::run_mcmc(): object '_bfcr_run_mcmc' not found\nTraceback:\n",
      "1. bfcr::run_mcmc()"
     ]
    }
   ],
   "source": [
    "bfcr::run_mcmc()"
   ]
  }
 ],
 "metadata": {
  "kernelspec": {
   "display_name": "R",
   "language": "R",
   "name": "ir"
  },
  "language_info": {
   "codemirror_mode": "r",
   "file_extension": ".r",
   "mimetype": "text/x-r-source",
   "name": "R",
   "pygments_lexer": "r",
   "version": "3.6.1"
  }
 },
 "nbformat": 4,
 "nbformat_minor": 4
}
